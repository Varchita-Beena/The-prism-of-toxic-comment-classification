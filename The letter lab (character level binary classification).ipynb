{
 "cells": [
  {
   "cell_type": "code",
   "execution_count": 1,
   "id": "1cfcace6",
   "metadata": {},
   "outputs": [],
   "source": [
    "import pandas as pd\n",
    "import numpy as np\n",
    "\n",
    "import matplotlib.pyplot as plt\n",
    "import math\n",
    "\n",
    "import string\n",
    "\n",
    "import re\n",
    "from collections import Counter\n",
    "from sklearn import preprocessing\n",
    "from sklearn.metrics import mean_squared_error\n",
    "\n",
    "import json\n",
    "import collections\n",
    "import operator\n",
    "import random\n",
    "import seaborn as sns\n",
    "from sklearn.model_selection import train_test_split\n",
    "\n",
    "import tensorflow as tf\n",
    "\n",
    "import random\n",
    "from sklearn.ensemble import RandomForestClassifier\n",
    "from sklearn.metrics import accuracy_score, precision_score, recall_score, f1_score, confusion_matrix\n"
   ]
  },
  {
   "cell_type": "code",
   "execution_count": 2,
   "id": "bb384a66",
   "metadata": {},
   "outputs": [],
   "source": [
    "train_file = pd.read_csv('clean.csv')"
   ]
  },
  {
   "cell_type": "code",
   "execution_count": 3,
   "id": "b3b6a462",
   "metadata": {},
   "outputs": [
    {
     "data": {
      "text/plain": [
       "(Index(['comment_text', 'toxic', 'severe_toxic', 'obscene', 'threat', 'insult',\n",
       "        'identity_hate', 'label'],\n",
       "       dtype='object'),\n",
       " (159513, 8))"
      ]
     },
     "execution_count": 3,
     "metadata": {},
     "output_type": "execute_result"
    }
   ],
   "source": [
    "train_file.columns, train_file.shape"
   ]
  },
  {
   "cell_type": "code",
   "execution_count": 4,
   "id": "0b56d6bc",
   "metadata": {},
   "outputs": [],
   "source": [
    "max_label_length = 6\n",
    "new_label = []\n",
    "for each in train_file['label']:\n",
    "    temp = str(each)\n",
    "    if len(temp) != max_label_length:\n",
    "        zeros = max_label_length - len(str(each))\n",
    "        res = temp.rjust(zeros + len(temp), '0')\n",
    "        new_label.append(res)\n",
    "    else:\n",
    "        new_label.append(temp)    "
   ]
  },
  {
   "cell_type": "code",
   "execution_count": 5,
   "id": "eea1ebfa",
   "metadata": {},
   "outputs": [],
   "source": [
    "train_file['label'] = new_label"
   ]
  },
  {
   "cell_type": "code",
   "execution_count": 6,
   "id": "71521365",
   "metadata": {},
   "outputs": [],
   "source": [
    "train_file = train_file.drop(['toxic', 'severe_toxic', 'obscene', 'threat', 'insult', 'identity_hate'], axis = 1)"
   ]
  },
  {
   "cell_type": "code",
   "execution_count": 7,
   "id": "46cd090d",
   "metadata": {},
   "outputs": [],
   "source": [
    "all_toxic = train_file[(train_file.label != '000000')].reset_index(drop = True)\n",
    "non_toxic = train_file[(train_file.label == '000000')].reset_index(drop = True)"
   ]
  },
  {
   "cell_type": "code",
   "execution_count": 8,
   "id": "b490b286",
   "metadata": {},
   "outputs": [
    {
     "data": {
      "text/plain": [
       "((16225, 2), (143288, 2))"
      ]
     },
     "execution_count": 8,
     "metadata": {},
     "output_type": "execute_result"
    }
   ],
   "source": [
    "all_toxic.shape, non_toxic.shape"
   ]
  },
  {
   "cell_type": "code",
   "execution_count": 9,
   "id": "7eb32e8c",
   "metadata": {},
   "outputs": [],
   "source": [
    "del train_file"
   ]
  },
  {
   "cell_type": "code",
   "execution_count": 10,
   "id": "6363e5b1",
   "metadata": {},
   "outputs": [],
   "source": [
    "non_toxic_labels = [0] * non_toxic.shape[0]\n",
    "toxic_labels = [1] * all_toxic.shape[0]"
   ]
  },
  {
   "cell_type": "code",
   "execution_count": 11,
   "id": "d0b9fa31",
   "metadata": {},
   "outputs": [],
   "source": [
    "non_toxic['label'] = non_toxic_labels\n",
    "all_toxic['label'] = toxic_labels"
   ]
  },
  {
   "cell_type": "code",
   "execution_count": 12,
   "id": "74177347",
   "metadata": {},
   "outputs": [
    {
     "data": {
      "text/plain": [
       "(                                        comment_text  label\n",
       " 0  explanation edits made username hardcore metal...      0\n",
       " 1  aww matches background colour seemingly stuck ...      0\n",
       " 2  hey man really trying edit war guy constantly ...      0\n",
       " 3  make real suggestions improvement wondered sec...      0,\n",
       "                                         comment_text  label\n",
       " 0                        cocksucker piss around work      1\n",
       " 1  hey talk exclusive group wp talibans good dest...      1\n",
       " 2            bye look come think comming back tosser      1\n",
       " 3  gay antisemmitian archangel white tiger meow g...      1)"
      ]
     },
     "execution_count": 12,
     "metadata": {},
     "output_type": "execute_result"
    }
   ],
   "source": [
    "non_toxic.head(4), all_toxic.head(4)"
   ]
  },
  {
   "cell_type": "code",
   "execution_count": 13,
   "id": "73a63901",
   "metadata": {},
   "outputs": [],
   "source": [
    "whole_frame = pd.concat([non_toxic, all_toxic], ignore_index=True)"
   ]
  },
  {
   "cell_type": "code",
   "execution_count": 14,
   "id": "cc9d929a",
   "metadata": {},
   "outputs": [
    {
     "data": {
      "text/plain": [
       "((143561, 2), (14356, 2), (1596, 2))"
      ]
     },
     "execution_count": 14,
     "metadata": {},
     "output_type": "execute_result"
    }
   ],
   "source": [
    "train, non_train = train_test_split(whole_frame, test_size=0.1, random_state=42, stratify = whole_frame['label'], shuffle = True)\n",
    "val, test = train_test_split(non_train, test_size=0.1, random_state=42, stratify = non_train['label'], shuffle = True)\n",
    "train.shape, val.shape, test.shape"
   ]
  },
  {
   "cell_type": "code",
   "execution_count": 15,
   "id": "0db326ea",
   "metadata": {},
   "outputs": [],
   "source": [
    "del non_toxic\n",
    "del all_toxic\n",
    "\n",
    "x_train = train['comment_text'].reset_index(drop = True)\n",
    "y_train = train['label'].reset_index(drop = True)\n",
    "\n",
    "x_val = val['comment_text'].reset_index(drop = True)\n",
    "y_val = val['label'].reset_index(drop = True)\n",
    "\n",
    "x_test = test['comment_text'].reset_index(drop = True)\n",
    "y_test = test['label'].reset_index(drop = True)\n",
    "\n",
    "\n",
    "del train\n",
    "del val\n",
    "del test"
   ]
  },
  {
   "cell_type": "markdown",
   "id": "2f7cb046",
   "metadata": {},
   "source": [
    "#### keras tokenizer helps to form vocab and word index from the given data at the character level, for OOV keep UNK (unknown character)"
   ]
  },
  {
   "cell_type": "code",
   "execution_count": 16,
   "id": "9839a7b9",
   "metadata": {},
   "outputs": [],
   "source": [
    "tk = tf.keras.preprocessing.text.Tokenizer(num_words=None, char_level=True, oov_token='UNK')\n",
    "tk.fit_on_texts(x_train)"
   ]
  },
  {
   "cell_type": "code",
   "execution_count": 17,
   "id": "70515f9a",
   "metadata": {},
   "outputs": [
    {
     "data": {
      "text/plain": [
       "{'UNK': 1,\n",
       " ' ': 2,\n",
       " 'e': 3,\n",
       " 'i': 4,\n",
       " 'a': 5,\n",
       " 't': 6,\n",
       " 'n': 7,\n",
       " 's': 8,\n",
       " 'r': 9,\n",
       " 'o': 10,\n",
       " 'l': 11,\n",
       " 'c': 12,\n",
       " 'd': 13,\n",
       " 'p': 14,\n",
       " 'u': 15,\n",
       " 'g': 16,\n",
       " 'm': 17,\n",
       " 'h': 18,\n",
       " 'y': 19,\n",
       " 'k': 20,\n",
       " 'w': 21,\n",
       " 'b': 22,\n",
       " 'f': 23,\n",
       " 'v': 24,\n",
       " 'x': 25,\n",
       " 'j': 26,\n",
       " 'q': 27,\n",
       " 'z': 28}"
      ]
     },
     "execution_count": 17,
     "metadata": {},
     "output_type": "execute_result"
    }
   ],
   "source": [
    "tk.word_index"
   ]
  },
  {
   "cell_type": "code",
   "execution_count": 18,
   "id": "ff749ac8",
   "metadata": {},
   "outputs": [
    {
     "data": {
      "text/plain": [
       "28"
      ]
     },
     "execution_count": 18,
     "metadata": {},
     "output_type": "execute_result"
    }
   ],
   "source": [
    "vocab_size = len(tk.word_index)\n",
    "vocab_size"
   ]
  },
  {
   "cell_type": "markdown",
   "id": "cecec5d8",
   "metadata": {},
   "source": [
    "#### Transform text according to vocab i.e., replace every character with index in vocab"
   ]
  },
  {
   "cell_type": "code",
   "execution_count": 19,
   "id": "a13c0219",
   "metadata": {},
   "outputs": [
    {
     "data": {
      "text/plain": [
       "((143561,), (143561,), (14356,), (14356,), (1596,), (1596,))"
      ]
     },
     "execution_count": 19,
     "metadata": {},
     "output_type": "execute_result"
    }
   ],
   "source": [
    "x_train.shape, y_train.shape, x_val.shape, y_val.shape, x_test.shape, y_test.shape"
   ]
  },
  {
   "cell_type": "code",
   "execution_count": 20,
   "id": "5d649a09",
   "metadata": {},
   "outputs": [],
   "source": [
    "x_train = tk.texts_to_sequences(x_train)\n",
    "x_val = tk.texts_to_sequences(x_val)\n",
    "x_test = tk.texts_to_sequences(x_test)"
   ]
  },
  {
   "cell_type": "code",
   "execution_count": 21,
   "id": "29fa4258",
   "metadata": {},
   "outputs": [
    {
     "data": {
      "text/plain": [
       "[14,\n",
       " 11,\n",
       " 3,\n",
       " 5,\n",
       " 8,\n",
       " 3,\n",
       " 2,\n",
       " 9,\n",
       " 3,\n",
       " 17,\n",
       " 10,\n",
       " 24,\n",
       " 3,\n",
       " 2,\n",
       " 21,\n",
       " 5,\n",
       " 9,\n",
       " 7,\n",
       " 4,\n",
       " 7,\n",
       " 16,\n",
       " 8,\n",
       " 2,\n",
       " 15,\n",
       " 8,\n",
       " 3,\n",
       " 9,\n",
       " 2,\n",
       " 6,\n",
       " 5,\n",
       " 11,\n",
       " 20,\n",
       " 2,\n",
       " 14,\n",
       " 5,\n",
       " 16,\n",
       " 3,\n",
       " 8,\n",
       " 2,\n",
       " 12,\n",
       " 10,\n",
       " 7,\n",
       " 8,\n",
       " 4,\n",
       " 13,\n",
       " 3,\n",
       " 9,\n",
       " 3,\n",
       " 13,\n",
       " 2,\n",
       " 24,\n",
       " 5,\n",
       " 7,\n",
       " 13,\n",
       " 5,\n",
       " 11,\n",
       " 4,\n",
       " 8,\n",
       " 17,\n",
       " 2,\n",
       " 22,\n",
       " 10,\n",
       " 19,\n",
       " 12,\n",
       " 9,\n",
       " 5,\n",
       " 8,\n",
       " 18,\n",
       " 23,\n",
       " 5,\n",
       " 7]"
      ]
     },
     "execution_count": 21,
     "metadata": {},
     "output_type": "execute_result"
    }
   ],
   "source": [
    "x_train[0]"
   ]
  },
  {
   "cell_type": "code",
   "execution_count": 22,
   "id": "3f31a10b",
   "metadata": {},
   "outputs": [
    {
     "data": {
      "text/plain": [
       "(143561, (143561,), 14356, (14356,), 1596, (1596,))"
      ]
     },
     "execution_count": 22,
     "metadata": {},
     "output_type": "execute_result"
    }
   ],
   "source": [
    "len(x_train), y_train.shape, len(x_val), y_val.shape, len(x_test), y_test.shape"
   ]
  },
  {
   "cell_type": "markdown",
   "id": "a147f5cd",
   "metadata": {},
   "source": [
    "#### pad sequences"
   ]
  },
  {
   "cell_type": "code",
   "execution_count": 23,
   "id": "f7e1449d",
   "metadata": {},
   "outputs": [],
   "source": [
    "# Padding\n",
    "x_train = tf.keras.preprocessing.sequence.pad_sequences(x_train, maxlen=5000, padding='post')\n",
    "x_val = tf.keras.preprocessing.sequence.pad_sequences(x_val, maxlen=5000, padding='post')\n",
    "x_test = tf.keras.preprocessing.sequence.pad_sequences(x_test, maxlen=5000, padding='post')\n",
    "\n",
    "# Convert to numpy array\n",
    "x_train = np.array(x_train, dtype='float32')\n",
    "x_val = np.array(x_val, dtype='float32')\n",
    "x_test = np.array(x_test, dtype='float32')"
   ]
  },
  {
   "cell_type": "code",
   "execution_count": 24,
   "id": "84475a8d",
   "metadata": {},
   "outputs": [
    {
     "data": {
      "text/plain": [
       "((143561, 5000), (143561,), (14356, 5000), (14356,), (1596, 5000), (1596,))"
      ]
     },
     "execution_count": 24,
     "metadata": {},
     "output_type": "execute_result"
    }
   ],
   "source": [
    "x_train.shape, y_train.shape, x_val.shape, y_val.shape, x_test.shape, y_test.shape"
   ]
  },
  {
   "cell_type": "markdown",
   "id": "fcea63e1",
   "metadata": {},
   "source": [
    "#### embedding matrix\n",
    "#### vocab_size is 28, so 28 will be columns (features)\n",
    "#### Here using one hot encoding, we can prepare embedding weights for keras embedding layer."
   ]
  },
  {
   "cell_type": "code",
   "execution_count": 25,
   "id": "0e338056",
   "metadata": {},
   "outputs": [],
   "source": [
    "embedding_weights = []\n",
    "#embedding_weights.append(np.zeros(vocab_size))\n",
    "\n",
    "for char, i in tk.word_index.items():\n",
    "    onehot = np.zeros(vocab_size)\n",
    "    onehot[i-1] = 1\n",
    "    embedding_weights.append(onehot)\n",
    "embedding_weights = np.array(embedding_weights)"
   ]
  },
  {
   "cell_type": "code",
   "execution_count": 26,
   "id": "66908495",
   "metadata": {},
   "outputs": [
    {
     "data": {
      "text/plain": [
       "(28, 28)"
      ]
     },
     "execution_count": 26,
     "metadata": {},
     "output_type": "execute_result"
    }
   ],
   "source": [
    "embedding_weights.shape"
   ]
  },
  {
   "cell_type": "code",
   "execution_count": 27,
   "id": "37546ef8",
   "metadata": {},
   "outputs": [],
   "source": [
    "input_size = 5000\n",
    "vocab_size = len(tk.word_index)\n",
    "embedding_size = 28"
   ]
  },
  {
   "cell_type": "code",
   "execution_count": 28,
   "id": "2c111ad3",
   "metadata": {},
   "outputs": [],
   "source": [
    "embedding_layer = tf.keras.layers.Embedding(vocab_size,\n",
    "                                           embedding_size,\n",
    "                                           input_length = input_size,\n",
    "                                           weights = [embedding_weights])\n"
   ]
  },
  {
   "cell_type": "markdown",
   "id": "4fd2ba7f",
   "metadata": {},
   "source": [
    "#### If we do not want to look for making embedding weights, simply leave it on the keras embedding layer \n",
    "#### specify the dimension of embedding and layer will itself produce (vocab_size, embedding_size ) matrix "
   ]
  },
  {
   "cell_type": "code",
   "execution_count": null,
   "id": "4ed715c5",
   "metadata": {},
   "outputs": [],
   "source": [
    "#use upper block or this block\n",
    "embed_size = 100\n",
    "embedding_layer = tf.keras.layers.Embedding(vocab_size,\n",
    "                                           output_dim = embed_size,\n",
    "                                           input_length = input_size,\n",
    "                                           )"
   ]
  },
  {
   "cell_type": "code",
   "execution_count": 39,
   "id": "16725248",
   "metadata": {},
   "outputs": [
    {
     "name": "stdout",
     "output_type": "stream",
     "text": [
      "Model: \"model_4\"\n",
      "_________________________________________________________________\n",
      " Layer (type)                Output Shape              Param #   \n",
      "=================================================================\n",
      " input (InputLayer)          [(None, 5000)]            0         \n",
      "                                                                 \n",
      " embedding (Embedding)       (None, 5000, 28)          784       \n",
      "                                                                 \n",
      " conv1d_23 (Conv1D)          (None, 4994, 32)          6304      \n",
      "                                                                 \n",
      " max_pooling1d_23 (MaxPoolin  (None, 1664, 32)         0         \n",
      " g1D)                                                            \n",
      "                                                                 \n",
      " batch_normalization_23 (Bat  (None, 1664, 32)         128       \n",
      " chNormalization)                                                \n",
      "                                                                 \n",
      " conv1d_24 (Conv1D)          (None, 1660, 64)          10304     \n",
      "                                                                 \n",
      " max_pooling1d_24 (MaxPoolin  (None, 553, 64)          0         \n",
      " g1D)                                                            \n",
      "                                                                 \n",
      " batch_normalization_24 (Bat  (None, 553, 64)          256       \n",
      " chNormalization)                                                \n",
      "                                                                 \n",
      " conv1d_25 (Conv1D)          (None, 549, 128)          41088     \n",
      "                                                                 \n",
      " max_pooling1d_25 (MaxPoolin  (None, 183, 128)         0         \n",
      " g1D)                                                            \n",
      "                                                                 \n",
      " batch_normalization_25 (Bat  (None, 183, 128)         512       \n",
      " chNormalization)                                                \n",
      "                                                                 \n",
      " conv1d_26 (Conv1D)          (None, 181, 256)          98560     \n",
      "                                                                 \n",
      " max_pooling1d_26 (MaxPoolin  (None, 60, 256)          0         \n",
      " g1D)                                                            \n",
      "                                                                 \n",
      " batch_normalization_26 (Bat  (None, 60, 256)          1024      \n",
      " chNormalization)                                                \n",
      "                                                                 \n",
      " conv1d_27 (Conv1D)          (None, 58, 256)           196864    \n",
      "                                                                 \n",
      " max_pooling1d_27 (MaxPoolin  (None, 19, 256)          0         \n",
      " g1D)                                                            \n",
      "                                                                 \n",
      " batch_normalization_27 (Bat  (None, 19, 256)          1024      \n",
      " chNormalization)                                                \n",
      "                                                                 \n",
      " flatten_4 (Flatten)         (None, 4864)              0         \n",
      "                                                                 \n",
      " dense_10 (Dense)            (None, 1024)              4981760   \n",
      "                                                                 \n",
      " dense_11 (Dense)            (None, 256)               262400    \n",
      "                                                                 \n",
      " dense_12 (Dense)            (None, 1)                 257       \n",
      "                                                                 \n",
      "=================================================================\n",
      "Total params: 5,601,265\n",
      "Trainable params: 5,599,793\n",
      "Non-trainable params: 1,472\n",
      "_________________________________________________________________\n"
     ]
    }
   ],
   "source": [
    "inputs = tf.keras.Input(shape=(input_size,), name='input', dtype='int64')  \n",
    "x = embedding_layer(inputs)\n",
    "\n",
    "x = tf.keras.layers.Conv1D(32, 7, activation = 'relu')(x)\n",
    "x = tf.keras.layers.MaxPooling1D(3)(x)\n",
    "x = tf.keras.layers.BatchNormalization()(x)\n",
    "\n",
    "x = tf.keras.layers.Conv1D(64, 5, activation = 'relu')(x)\n",
    "x = tf.keras.layers.MaxPooling1D(3)(x)\n",
    "x = tf.keras.layers.BatchNormalization()(x)\n",
    "\n",
    "x = tf.keras.layers.Conv1D(128, 5, activation = 'relu')(x)\n",
    "x = tf.keras.layers.MaxPooling1D(3)(x)\n",
    "x = tf.keras.layers.BatchNormalization()(x)\n",
    "\n",
    "x = tf.keras.layers.Conv1D(256, 3, activation = 'relu')(x)\n",
    "x = tf.keras.layers.MaxPooling1D(3)(x)\n",
    "x = tf.keras.layers.BatchNormalization()(x)\n",
    "\n",
    "x = tf.keras.layers.Conv1D(256, 3, activation = 'relu')(x)\n",
    "x = tf.keras.layers.MaxPooling1D(3)(x)\n",
    "x = tf.keras.layers.BatchNormalization()(x)\n",
    "\n",
    "x = tf.keras.layers.Flatten()(x)\n",
    "x = tf.keras.layers.Dense(1024)(x)\n",
    "x = tf.keras.layers.Dense(256)(x)\n",
    "out = tf.keras.layers.Dense(1)(x)\n",
    "\n",
    "\n",
    "model = tf.keras.Model(inputs = inputs, outputs = out)\n",
    "model.compile(optimizer = 'adam', loss = 'binary_crossentropy', metrics=['accuracy'])\n",
    "model.summary()"
   ]
  },
  {
   "cell_type": "code",
   "execution_count": 44,
   "id": "4c52ffad",
   "metadata": {},
   "outputs": [
    {
     "name": "stdout",
     "output_type": "stream",
     "text": [
      "Epoch 1/5\n",
      "1122/1122 [==============================] - 70s 62ms/step - loss: 1.6213 - accuracy: 0.8948 - val_loss: 1.6163 - val_accuracy: 0.8952\n",
      "Epoch 2/5\n",
      "1122/1122 [==============================] - 69s 62ms/step - loss: 1.6213 - accuracy: 0.8948 - val_loss: 1.6163 - val_accuracy: 0.8952\n",
      "Epoch 3/5\n",
      "1122/1122 [==============================] - 94s 84ms/step - loss: 1.6210 - accuracy: 0.8949 - val_loss: 1.6163 - val_accuracy: 0.8952\n",
      "Epoch 4/5\n",
      "1122/1122 [==============================] - 84s 75ms/step - loss: 1.6212 - accuracy: 0.8948 - val_loss: 1.6163 - val_accuracy: 0.8952\n",
      "Epoch 5/5\n",
      "1122/1122 [==============================] - 92s 82ms/step - loss: 1.6215 - accuracy: 0.8948 - val_loss: 1.6163 - val_accuracy: 0.8952\n"
     ]
    },
    {
     "data": {
      "text/plain": [
       "<keras.callbacks.History at 0x33531d460>"
      ]
     },
     "execution_count": 44,
     "metadata": {},
     "output_type": "execute_result"
    }
   ],
   "source": [
    "model.fit(x_train, y_train,\n",
    "          validation_data=(x_val, y_val),\n",
    "          batch_size=128,\n",
    "          epochs=5)\n",
    "\n"
   ]
  },
  {
   "cell_type": "code",
   "execution_count": 45,
   "id": "ddf29fc0",
   "metadata": {},
   "outputs": [
    {
     "name": "stdout",
     "output_type": "stream",
     "text": [
      "50/50 [==============================] - 0s 9ms/step\n"
     ]
    }
   ],
   "source": [
    "y_predicted = model.predict(x_test)"
   ]
  },
  {
   "cell_type": "code",
   "execution_count": 46,
   "id": "59836940",
   "metadata": {},
   "outputs": [
    {
     "name": "stdout",
     "output_type": "stream",
     "text": [
      "0.8947368421052632\n",
      "0.820089818374652\n",
      "0.8947368421052632\n",
      "0.8947368421052632\n",
      "[[1427    7]\n",
      " [ 161    1]]\n"
     ]
    }
   ],
   "source": [
    "y_predicted = y_predicted.flatten()\n",
    "y_predicted = np.where(y_predicted > 0.8, 1, 0)\n",
    "y_predicted\n",
    "\n",
    "\n",
    "print(accuracy_score(y_test, y_predicted))\n",
    "print(precision_score(y_test, y_predicted, average='weighted', zero_division = 1))\n",
    "print(recall_score(y_test, y_predicted, average='weighted', zero_division = 1))\n",
    "print(f1_score(y_test, y_predicted, average='micro', zero_division = 1))\n",
    "print(confusion_matrix(y_test, y_predicted))"
   ]
  },
  {
   "cell_type": "code",
   "execution_count": null,
   "id": "361fd430",
   "metadata": {},
   "outputs": [],
   "source": []
  }
 ],
 "metadata": {
  "kernelspec": {
   "display_name": "Python 3 (ipykernel)",
   "language": "python",
   "name": "python3"
  },
  "language_info": {
   "codemirror_mode": {
    "name": "ipython",
    "version": 3
   },
   "file_extension": ".py",
   "mimetype": "text/x-python",
   "name": "python",
   "nbconvert_exporter": "python",
   "pygments_lexer": "ipython3",
   "version": "3.9.16"
  }
 },
 "nbformat": 4,
 "nbformat_minor": 5
}
