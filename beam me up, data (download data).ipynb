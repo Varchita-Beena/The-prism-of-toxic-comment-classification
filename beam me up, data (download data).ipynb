{
 "cells": [
  {
   "cell_type": "markdown",
   "id": "4b9ae6a7",
   "metadata": {},
   "source": [
    "#### The data set is from kaggle \n",
    "#### use the link to down load the data and unzip it."
   ]
  },
  {
   "cell_type": "code",
   "execution_count": 1,
   "id": "21cb1254",
   "metadata": {},
   "outputs": [
    {
     "name": "stdout",
     "output_type": "stream",
     "text": [
      "mkdir: /Users/varchitalalwani/.kaggle: File exists\r\n"
     ]
    }
   ],
   "source": [
    "! mkdir ~/.kaggle"
   ]
  },
  {
   "cell_type": "code",
   "execution_count": 2,
   "id": "d7445838",
   "metadata": {},
   "outputs": [],
   "source": [
    "! cp kaggle.json ~/.kaggle/"
   ]
  },
  {
   "cell_type": "code",
   "execution_count": 3,
   "id": "e5f3ef52",
   "metadata": {},
   "outputs": [],
   "source": [
    "! chmod 600 ~/.kaggle/kaggle.json"
   ]
  },
  {
   "cell_type": "code",
   "execution_count": 4,
   "id": "2e01e556",
   "metadata": {},
   "outputs": [
    {
     "name": "stdout",
     "output_type": "stream",
     "text": [
      "Downloading jigsaw-toxic-comment-classification-challenge.zip to /Users/varchitalalwani/Downloads/toxic_comment_classification\n",
      "100%|██████████████████████████████████████| 52.6M/52.6M [00:14<00:00, 6.29MB/s]\n",
      "100%|██████████████████████████████████████| 52.6M/52.6M [00:14<00:00, 3.89MB/s]\n"
     ]
    }
   ],
   "source": [
    "! kaggle competitions download -c jigsaw-toxic-comment-classification-challenge"
   ]
  },
  {
   "cell_type": "code",
   "execution_count": 5,
   "id": "d27331b4",
   "metadata": {},
   "outputs": [
    {
     "name": "stdout",
     "output_type": "stream",
     "text": [
      "Archive:  jigsaw-toxic-comment-classification-challenge.zip\n",
      "  inflating: sample_submission.csv.zip  \n",
      "  inflating: test.csv.zip            \n",
      "  inflating: test_labels.csv.zip     \n",
      "  inflating: train.csv.zip           \n"
     ]
    }
   ],
   "source": [
    "! unzip jigsaw-toxic-comment-classification-challenge"
   ]
  },
  {
   "cell_type": "code",
   "execution_count": 6,
   "id": "8f16f140",
   "metadata": {},
   "outputs": [
    {
     "name": "stdout",
     "output_type": "stream",
     "text": [
      "Archive:  train.csv.zip\n",
      "  inflating: train.csv               \n"
     ]
    }
   ],
   "source": [
    "! unzip train.csv.zip"
   ]
  },
  {
   "cell_type": "code",
   "execution_count": 7,
   "id": "9bfdab99",
   "metadata": {},
   "outputs": [
    {
     "name": "stdout",
     "output_type": "stream",
     "text": [
      "Archive:  test.csv.zip\n",
      "  inflating: test.csv                \n"
     ]
    }
   ],
   "source": [
    "! unzip test.csv.zip"
   ]
  },
  {
   "cell_type": "code",
   "execution_count": 8,
   "id": "dd779a75",
   "metadata": {},
   "outputs": [
    {
     "name": "stdout",
     "output_type": "stream",
     "text": [
      "Archive:  test_labels.csv.zip\r\n",
      "  inflating: test_labels.csv         \r\n"
     ]
    }
   ],
   "source": [
    "! unzip test_labels.csv.zip"
   ]
  },
  {
   "cell_type": "code",
   "execution_count": null,
   "id": "e7c89ecb",
   "metadata": {},
   "outputs": [],
   "source": []
  }
 ],
 "metadata": {
  "kernelspec": {
   "display_name": "Python 3 (ipykernel)",
   "language": "python",
   "name": "python3"
  },
  "language_info": {
   "codemirror_mode": {
    "name": "ipython",
    "version": 3
   },
   "file_extension": ".py",
   "mimetype": "text/x-python",
   "name": "python",
   "nbconvert_exporter": "python",
   "pygments_lexer": "ipython3",
   "version": "3.9.16"
  }
 },
 "nbformat": 4,
 "nbformat_minor": 5
}
