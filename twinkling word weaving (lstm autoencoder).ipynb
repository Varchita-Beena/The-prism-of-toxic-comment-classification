{
 "cells": [
  {
   "cell_type": "code",
   "execution_count": 17,
   "id": "1cfcace6",
   "metadata": {},
   "outputs": [],
   "source": [
    "import numpy as np\n",
    "import tensorflow as tf"
   ]
  },
  {
   "cell_type": "markdown",
   "id": "53614077",
   "metadata": {},
   "source": [
    "#### Split sentences to words"
   ]
  },
  {
   "cell_type": "code",
   "execution_count": 18,
   "id": "d33f8b6b",
   "metadata": {},
   "outputs": [],
   "source": [
    "sentences = ['this tutorial wordvec scratch chapter toxic comment classification', 'this chapter focuses toxic comment classification aditionally wordvec tutorial']\n"
   ]
  },
  {
   "cell_type": "code",
   "execution_count": 19,
   "id": "e11845d4",
   "metadata": {},
   "outputs": [
    {
     "data": {
      "text/plain": [
       "(17,\n",
       " ['this',\n",
       "  'tutorial',\n",
       "  'wordvec',\n",
       "  'scratch',\n",
       "  'chapter',\n",
       "  'toxic',\n",
       "  'comment',\n",
       "  'classification',\n",
       "  'this',\n",
       "  'chapter',\n",
       "  'focuses',\n",
       "  'toxic',\n",
       "  'comment',\n",
       "  'classification',\n",
       "  'aditionally',\n",
       "  'wordvec',\n",
       "  'tutorial'])"
      ]
     },
     "execution_count": 19,
     "metadata": {},
     "output_type": "execute_result"
    }
   ],
   "source": [
    "all_words = []\n",
    "for each in sentences:\n",
    "    all_words.extend(each.split(' '))\n",
    "len(all_words), all_words"
   ]
  },
  {
   "cell_type": "markdown",
   "id": "a639623e",
   "metadata": {},
   "source": [
    "#### Build the vocab and add UNK for OOV"
   ]
  },
  {
   "cell_type": "code",
   "execution_count": 20,
   "id": "7af71fe6",
   "metadata": {},
   "outputs": [
    {
     "data": {
      "text/plain": [
       "({'UNK': 0,\n",
       "  'this': 1,\n",
       "  'tutorial': 2,\n",
       "  'wordvec': 3,\n",
       "  'scratch': 4,\n",
       "  'chapter': 5,\n",
       "  'toxic': 6,\n",
       "  'comment': 7,\n",
       "  'classification': 8,\n",
       "  'focuses': 9,\n",
       "  'aditionally': 10},\n",
       " 11)"
      ]
     },
     "execution_count": 20,
     "metadata": {},
     "output_type": "execute_result"
    }
   ],
   "source": [
    "word_index = {}\n",
    "word_index['UNK'] = 0\n",
    "index = 1\n",
    "for each in all_words:\n",
    "    if each in word_index.keys():\n",
    "        continue\n",
    "    word_index[each] = index\n",
    "    index += 1\n",
    "\n",
    "vocab_words = list(word_index.keys())\n",
    "vocab_len = len(vocab_words)\n",
    "word_index, vocab_len"
   ]
  },
  {
   "cell_type": "markdown",
   "id": "4e23b0bf",
   "metadata": {},
   "source": [
    "#### Tokenize sentences"
   ]
  },
  {
   "cell_type": "code",
   "execution_count": 21,
   "id": "c3ba7c19",
   "metadata": {},
   "outputs": [
    {
     "data": {
      "text/plain": [
       "[[1, 2, 3, 4, 5, 6, 7, 8], [1, 5, 9, 6, 7, 8, 10, 3, 2]]"
      ]
     },
     "execution_count": 21,
     "metadata": {},
     "output_type": "execute_result"
    }
   ],
   "source": [
    "tokenized_sentences = []\n",
    "lengths = []\n",
    "for sentence in sentences:\n",
    "    split_sent = sentence.split(' ')\n",
    "    lengths.append(len(split_sent))\n",
    "    tokenized_ = []\n",
    "    for word in split_sent:\n",
    "        tokenized_.append(word_index[word])\n",
    "    tokenized_sentences.append(tokenized_)\n",
    "max_len = max(lengths)\n",
    "tokenized_sentences\n"
   ]
  },
  {
   "cell_type": "markdown",
   "id": "d30852f3",
   "metadata": {},
   "source": [
    "#### Make all sentences of equal length using padding"
   ]
  },
  {
   "cell_type": "code",
   "execution_count": 22,
   "id": "598e6324",
   "metadata": {},
   "outputs": [],
   "source": [
    "tokeinzed_padded = []\n",
    "for sent in tokenized_sentences:\n",
    "    if len(sent) != max_len:\n",
    "        extra = np.abs(max_len - len(sent))\n",
    "        tokeinzed_padded.append(([0] * extra) + sent)\n",
    "    else:\n",
    "        tokeinzed_padded.append(sent)"
   ]
  },
  {
   "cell_type": "code",
   "execution_count": 23,
   "id": "a41ca6bd",
   "metadata": {},
   "outputs": [
    {
     "data": {
      "text/plain": [
       "[[0, 1, 2, 3, 4, 5, 6, 7, 8], [1, 5, 9, 6, 7, 8, 10, 3, 2]]"
      ]
     },
     "execution_count": 23,
     "metadata": {},
     "output_type": "execute_result"
    }
   ],
   "source": [
    "tokeinzed_padded"
   ]
  },
  {
   "cell_type": "markdown",
   "id": "e9ddea44",
   "metadata": {},
   "source": [
    "#### Chaneg every token to one hot coding"
   ]
  },
  {
   "cell_type": "code",
   "execution_count": 24,
   "id": "f8ad30c3",
   "metadata": {},
   "outputs": [],
   "source": [
    "one_hot_tokeinzed = []\n",
    "for sent in tokeinzed_padded:\n",
    "    temp = []\n",
    "    for token in sent:\n",
    "        word_one_hot = [0 for i in range(vocab_len)]\n",
    "        word_one_hot[token] = 1\n",
    "        temp.append(word_one_hot)\n",
    "    one_hot_tokeinzed.append(temp)"
   ]
  },
  {
   "cell_type": "code",
   "execution_count": 25,
   "id": "b36c61b6",
   "metadata": {},
   "outputs": [
    {
     "data": {
      "text/plain": [
       "(2, 9, 11)"
      ]
     },
     "execution_count": 25,
     "metadata": {},
     "output_type": "execute_result"
    }
   ],
   "source": [
    "one_hot_tokeinzed = np.array(one_hot_tokeinzed)\n",
    "one_hot_tokeinzed.shape"
   ]
  },
  {
   "cell_type": "markdown",
   "id": "0a8924e8",
   "metadata": {},
   "source": [
    "#### LSTM autoencoder "
   ]
  },
  {
   "cell_type": "code",
   "execution_count": 26,
   "id": "cf818c0d",
   "metadata": {},
   "outputs": [
    {
     "name": "stdout",
     "output_type": "stream",
     "text": [
      "WARNING:tensorflow:Layer lstm_5 will not use cuDNN kernels since it doesn't meet the criteria. It will use a generic GPU kernel as fallback when running on GPU.\n",
      "WARNING:tensorflow:Layer lstm_6 will not use cuDNN kernels since it doesn't meet the criteria. It will use a generic GPU kernel as fallback when running on GPU.\n",
      "WARNING:tensorflow:Layer lstm_7 will not use cuDNN kernels since it doesn't meet the criteria. It will use a generic GPU kernel as fallback when running on GPU.\n",
      "WARNING:tensorflow:Layer lstm_8 will not use cuDNN kernels since it doesn't meet the criteria. It will use a generic GPU kernel as fallback when running on GPU.\n",
      "WARNING:tensorflow:Layer lstm_9 will not use cuDNN kernels since it doesn't meet the criteria. It will use a generic GPU kernel as fallback when running on GPU.\n"
     ]
    }
   ],
   "source": [
    "inputs = tf.keras.Input(shape = (max_len, vocab_len))\n",
    "encoded = tf.keras.layers.LSTM(10, activation='relu', return_sequences = True)(inputs)\n",
    "encoded = tf.keras.layers.LSTM(20, activation='relu', return_sequences = True)(encoded)\n",
    "encoded = tf.keras.layers.LSTM(30, activation='relu')(encoded)\n",
    "decoded = tf.keras.layers.RepeatVector(max_len)(encoded)\n",
    "\n",
    "decoded = tf.keras.layers.LSTM(20, activation='relu', return_sequences=True)(decoded)\n",
    "decoded = tf.keras.layers.LSTM(10, activation='relu', return_sequences=True)(decoded)\n",
    "decoded = tf.keras.layers.TimeDistributed(tf.keras.layers.Dense(vocab_len))(decoded)"
   ]
  },
  {
   "cell_type": "code",
   "execution_count": 27,
   "id": "38edc8eb",
   "metadata": {},
   "outputs": [],
   "source": [
    "encoder = tf.keras.Model(inputs, encoded)\n",
    "\n",
    "model = tf.keras.Model(inputs=inputs, outputs=decoded)\n",
    "model.compile(optimizer='adam', loss='mse')"
   ]
  },
  {
   "cell_type": "code",
   "execution_count": 28,
   "id": "d03d3ea4",
   "metadata": {},
   "outputs": [
    {
     "name": "stdout",
     "output_type": "stream",
     "text": [
      "Model: \"model_3\"\n",
      "_________________________________________________________________\n",
      " Layer (type)                Output Shape              Param #   \n",
      "=================================================================\n",
      " input_2 (InputLayer)        [(None, 9, 11)]           0         \n",
      "                                                                 \n",
      " lstm_5 (LSTM)               (None, 9, 10)             880       \n",
      "                                                                 \n",
      " lstm_6 (LSTM)               (None, 9, 20)             2480      \n",
      "                                                                 \n",
      " lstm_7 (LSTM)               (None, 30)                6120      \n",
      "                                                                 \n",
      " repeat_vector_1 (RepeatVect  (None, 9, 30)            0         \n",
      " or)                                                             \n",
      "                                                                 \n",
      " lstm_8 (LSTM)               (None, 9, 20)             4080      \n",
      "                                                                 \n",
      " lstm_9 (LSTM)               (None, 9, 10)             1240      \n",
      "                                                                 \n",
      " time_distributed_1 (TimeDis  (None, 9, 11)            121       \n",
      " tributed)                                                       \n",
      "                                                                 \n",
      "=================================================================\n",
      "Total params: 14,921\n",
      "Trainable params: 14,921\n",
      "Non-trainable params: 0\n",
      "_________________________________________________________________\n"
     ]
    }
   ],
   "source": [
    "model.summary()"
   ]
  },
  {
   "cell_type": "code",
   "execution_count": 29,
   "id": "6d4c04a4",
   "metadata": {},
   "outputs": [
    {
     "name": "stdout",
     "output_type": "stream",
     "text": [
      "Epoch 1/3\n",
      "1/1 [==============================] - 2s 2s/step - loss: 0.0909\n",
      "Epoch 2/3\n",
      "1/1 [==============================] - 0s 383ms/step - loss: 0.0906\n",
      "Epoch 3/3\n",
      "1/1 [==============================] - 0s 352ms/step - loss: 0.0903\n"
     ]
    },
    {
     "data": {
      "text/plain": [
       "<keras.callbacks.History at 0x2c16a5ca0>"
      ]
     },
     "execution_count": 29,
     "metadata": {},
     "output_type": "execute_result"
    }
   ],
   "source": [
    "model.fit(one_hot_tokeinzed, one_hot_tokeinzed, epochs=3)"
   ]
  },
  {
   "cell_type": "markdown",
   "id": "bcc02da3",
   "metadata": {},
   "source": [
    "#### For new data point, tokenize it, change it to one hot encoding and get the sentence representation using encoder model."
   ]
  },
  {
   "cell_type": "code",
   "execution_count": 32,
   "id": "2209dcfa",
   "metadata": {},
   "outputs": [
    {
     "data": {
      "text/plain": [
       "[1, 2, 3, 6, 7, 8, 3, 4, 5]"
      ]
     },
     "execution_count": 32,
     "metadata": {},
     "output_type": "execute_result"
    }
   ],
   "source": [
    "x_test = 'this tutorial wordvec toxic comment classification wordvec scratch chapter'\n",
    "tokenized_test = []\n",
    "\n",
    "\n",
    "split_sent = x_test.split(' ')\n",
    "tokenized_test = []\n",
    "for word in split_sent:\n",
    "    tokenized_test.append(word_index[word])\n",
    "\n",
    "tokenized_test\n",
    " "
   ]
  },
  {
   "cell_type": "code",
   "execution_count": 31,
   "id": "08618b51",
   "metadata": {},
   "outputs": [
    {
     "data": {
      "text/plain": [
       "[[[0, 1, 0, 0, 0, 0, 0, 0, 0, 0, 0],\n",
       "  [0, 0, 1, 0, 0, 0, 0, 0, 0, 0, 0],\n",
       "  [0, 0, 0, 1, 0, 0, 0, 0, 0, 0, 0],\n",
       "  [0, 0, 0, 0, 0, 0, 1, 0, 0, 0, 0],\n",
       "  [0, 0, 0, 0, 0, 0, 0, 1, 0, 0, 0],\n",
       "  [0, 0, 0, 0, 0, 0, 0, 0, 1, 0, 0],\n",
       "  [0, 0, 0, 1, 0, 0, 0, 0, 0, 0, 0],\n",
       "  [0, 0, 0, 0, 1, 0, 0, 0, 0, 0, 0],\n",
       "  [0, 0, 0, 0, 0, 1, 0, 0, 0, 0, 0]]]"
      ]
     },
     "execution_count": 31,
     "metadata": {},
     "output_type": "execute_result"
    }
   ],
   "source": [
    "one_hot_tokeinzed_test = []\n",
    "\n",
    "temp = []\n",
    "for token in tokenized_test:\n",
    "    word_one_hot = [0 for i in range(vocab_len)]\n",
    "    word_one_hot[token] = 1\n",
    "    temp.append(word_one_hot)\n",
    "one_hot_tokeinzed_test.append(temp)\n",
    "one_hot_tokeinzed_test"
   ]
  },
  {
   "cell_type": "code",
   "execution_count": 16,
   "id": "ee1f94f0",
   "metadata": {},
   "outputs": [
    {
     "name": "stdout",
     "output_type": "stream",
     "text": [
      "1/1 [==============================] - 0s 417ms/step\n"
     ]
    },
    {
     "data": {
      "text/plain": [
       "(1, 30)"
      ]
     },
     "execution_count": 16,
     "metadata": {},
     "output_type": "execute_result"
    }
   ],
   "source": [
    "sentence_vector = encoder.predict(one_hot_tokeinzed_test)\n",
    "sentence_vector.shape"
   ]
  },
  {
   "cell_type": "code",
   "execution_count": null,
   "id": "f019b028",
   "metadata": {},
   "outputs": [],
   "source": []
  }
 ],
 "metadata": {
  "kernelspec": {
   "display_name": "Python 3 (ipykernel)",
   "language": "python",
   "name": "python3"
  },
  "language_info": {
   "codemirror_mode": {
    "name": "ipython",
    "version": 3
   },
   "file_extension": ".py",
   "mimetype": "text/x-python",
   "name": "python",
   "nbconvert_exporter": "python",
   "pygments_lexer": "ipython3",
   "version": "3.9.16"
  }
 },
 "nbformat": 4,
 "nbformat_minor": 5
}
