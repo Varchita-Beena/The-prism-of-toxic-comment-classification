{
 "cells": [
  {
   "cell_type": "code",
   "execution_count": 1,
   "id": "1cfcace6",
   "metadata": {},
   "outputs": [],
   "source": [
    "import pandas as pd\n",
    "import numpy as np\n",
    "\n",
    "import matplotlib.pyplot as plt\n",
    "\n",
    "from sklearn.metrics import f1_score, recall_score, precision_score, accuracy_score\n",
    "\n",
    "import seaborn as sns\n",
    "from sklearn.model_selection import train_test_split\n",
    "\n",
    "from sklearn.feature_extraction.text import TfidfVectorizer\n",
    "\n",
    "from sklearn.naive_bayes import MultinomialNB\n",
    "from sklearn.linear_model import LogisticRegression\n",
    "from sklearn.ensemble import RandomForestClassifier\n",
    "from sklearn.svm import LinearSVC\n",
    "\n",
    "from sklearn.metrics import confusion_matrix"
   ]
  },
  {
   "cell_type": "code",
   "execution_count": 2,
   "id": "bb384a66",
   "metadata": {},
   "outputs": [],
   "source": [
    "train_file = pd.read_csv('clean.csv')"
   ]
  },
  {
   "cell_type": "code",
   "execution_count": 3,
   "id": "b3b6a462",
   "metadata": {},
   "outputs": [
    {
     "data": {
      "text/plain": [
       "(Index(['comment_text', 'toxic', 'severe_toxic', 'obscene', 'threat', 'insult',\n",
       "        'identity_hate', 'label'],\n",
       "       dtype='object'),\n",
       " (159513, 8))"
      ]
     },
     "execution_count": 3,
     "metadata": {},
     "output_type": "execute_result"
    }
   ],
   "source": [
    "train_file.columns, train_file.shape"
   ]
  },
  {
   "cell_type": "code",
   "execution_count": 4,
   "id": "0b56d6bc",
   "metadata": {},
   "outputs": [],
   "source": [
    "max_label_length = 6\n",
    "new_label = []\n",
    "for each in train_file['label']:\n",
    "    temp = str(each)\n",
    "    if len(temp) != max_label_length:\n",
    "        zeros = max_label_length - len(str(each))\n",
    "        res = temp.rjust(zeros + len(temp), '0')\n",
    "        new_label.append(res)\n",
    "    else:\n",
    "        new_label.append(temp)    "
   ]
  },
  {
   "cell_type": "code",
   "execution_count": 5,
   "id": "eea1ebfa",
   "metadata": {},
   "outputs": [],
   "source": [
    "train_file['label'] = new_label"
   ]
  },
  {
   "cell_type": "code",
   "execution_count": 6,
   "id": "71521365",
   "metadata": {},
   "outputs": [],
   "source": [
    "train_file = train_file.drop(['toxic', 'severe_toxic', 'obscene', 'threat', 'insult', 'identity_hate'], axis = 1)"
   ]
  },
  {
   "cell_type": "code",
   "execution_count": 7,
   "id": "46cd090d",
   "metadata": {},
   "outputs": [],
   "source": [
    "all_toxic = train_file[(train_file.label != '000000')].reset_index(drop = True)\n",
    "non_toxic = train_file[(train_file.label == '000000')].reset_index(drop = True)"
   ]
  },
  {
   "cell_type": "code",
   "execution_count": 8,
   "id": "b490b286",
   "metadata": {},
   "outputs": [
    {
     "data": {
      "text/plain": [
       "((16225, 2), (143288, 2))"
      ]
     },
     "execution_count": 8,
     "metadata": {},
     "output_type": "execute_result"
    }
   ],
   "source": [
    "all_toxic.shape, non_toxic.shape"
   ]
  },
  {
   "cell_type": "code",
   "execution_count": 9,
   "id": "7eb32e8c",
   "metadata": {},
   "outputs": [],
   "source": [
    "del train_file"
   ]
  },
  {
   "cell_type": "code",
   "execution_count": 10,
   "id": "6363e5b1",
   "metadata": {},
   "outputs": [],
   "source": [
    "non_toxic_labels = [0] * non_toxic.shape[0]\n",
    "toxic_labels = [1] * all_toxic.shape[0]"
   ]
  },
  {
   "cell_type": "code",
   "execution_count": 11,
   "id": "d0b9fa31",
   "metadata": {},
   "outputs": [],
   "source": [
    "non_toxic['label'] = non_toxic_labels\n",
    "all_toxic['label'] = toxic_labels"
   ]
  },
  {
   "cell_type": "code",
   "execution_count": 12,
   "id": "74177347",
   "metadata": {},
   "outputs": [
    {
     "data": {
      "text/plain": [
       "(                                        comment_text  label\n",
       " 0  explanation edits made username hardcore metal...      0\n",
       " 1  aww matches background colour seemingly stuck ...      0\n",
       " 2  hey man really trying edit war guy constantly ...      0\n",
       " 3  make real suggestions improvement wondered sec...      0,\n",
       "                                         comment_text  label\n",
       " 0                        cocksucker piss around work      1\n",
       " 1  hey talk exclusive group wp talibans good dest...      1\n",
       " 2            bye look come think comming back tosser      1\n",
       " 3  gay antisemmitian archangel white tiger meow g...      1)"
      ]
     },
     "execution_count": 12,
     "metadata": {},
     "output_type": "execute_result"
    }
   ],
   "source": [
    "non_toxic.head(4), all_toxic.head(4)"
   ]
  },
  {
   "cell_type": "code",
   "execution_count": 13,
   "id": "73a63901",
   "metadata": {},
   "outputs": [],
   "source": [
    "whole_frame = pd.concat([non_toxic, all_toxic], ignore_index=True)"
   ]
  },
  {
   "cell_type": "code",
   "execution_count": 14,
   "id": "cc9d929a",
   "metadata": {},
   "outputs": [
    {
     "data": {
      "text/plain": [
       "((143561, 2), (14356, 2), (1596, 2))"
      ]
     },
     "execution_count": 14,
     "metadata": {},
     "output_type": "execute_result"
    }
   ],
   "source": [
    "train, non_train = train_test_split(whole_frame, test_size=0.1, random_state=42, stratify = whole_frame['label'], shuffle = True)\n",
    "val, test = train_test_split(non_train, test_size=0.1, random_state=42, stratify = non_train['label'], shuffle = True)\n",
    "train.shape, val.shape, test.shape"
   ]
  },
  {
   "cell_type": "code",
   "execution_count": 15,
   "id": "0db326ea",
   "metadata": {},
   "outputs": [],
   "source": [
    "del non_toxic\n",
    "del all_toxic\n",
    "\n",
    "x_train = train['comment_text'].reset_index(drop = True)\n",
    "y_train = train['label'].reset_index(drop = True)\n",
    "\n",
    "x_val = val['comment_text'].reset_index(drop = True)\n",
    "y_val = val['label'].reset_index(drop = True)\n",
    "\n",
    "x_test = test['comment_text'].reset_index(drop = True)\n",
    "y_test = test['label'].reset_index(drop = True)\n",
    "\n",
    "\n",
    "del train\n",
    "del val\n",
    "del test"
   ]
  },
  {
   "cell_type": "markdown",
   "id": "c47be56e",
   "metadata": {},
   "source": [
    "#### Corpus will be x_train\n",
    "#### the output shape will be (number of data points, features)\n",
    "#### features - representing the tf-idf score for different unigrams and bigrams."
   ]
  },
  {
   "cell_type": "code",
   "execution_count": 16,
   "id": "1103bbf3",
   "metadata": {},
   "outputs": [
    {
     "data": {
      "text/plain": [
       "((143561, 158647), (14356, 158647), (1596, 158647))"
      ]
     },
     "execution_count": 16,
     "metadata": {},
     "output_type": "execute_result"
    }
   ],
   "source": [
    "tf_idf = TfidfVectorizer()\n",
    "tf_idf.fit(x_train)\n",
    "X_train = tf_idf.transform(x_train)\n",
    "X_val = tf_idf.transform(x_val)\n",
    "X_test = tf_idf.transform(x_test)\n",
    "X_train.shape, X_val.shape, X_test.shape"
   ]
  },
  {
   "cell_type": "code",
   "execution_count": 17,
   "id": "c426144e",
   "metadata": {},
   "outputs": [],
   "source": [
    "models = [\n",
    "    RandomForestClassifier(n_estimators=60, max_depth=3, random_state=0),\n",
    "    LinearSVC(),\n",
    "    MultinomialNB(),\n",
    "    LogisticRegression(random_state=0),\n",
    "]\n",
    "models_name = ['random forest', 'support vector machine', 'naive bayes', 'logistic regression']"
   ]
  },
  {
   "cell_type": "markdown",
   "id": "3ac5cad3",
   "metadata": {},
   "source": [
    "#### trained models are saved in trained_models list."
   ]
  },
  {
   "cell_type": "code",
   "execution_count": 18,
   "id": "a75d1b5c",
   "metadata": {},
   "outputs": [
    {
     "name": "stdout",
     "output_type": "stream",
     "text": [
      "random forest\n",
      "Confusion matrix\n",
      "[[12895     0]\n",
      " [ 1461     0]]\n",
      "f1 score 0.8500741213236016\n",
      "recall 0.8982307049317358\n",
      "precision 0.9085876943504273\n",
      "accuracy 0.8982307049317358\n",
      "********************************\n",
      "support vector machine\n",
      "Confusion matrix\n",
      "[[12749   146]\n",
      " [  433  1028]]\n",
      "f1 score 0.9576939481755302\n",
      "recall 0.9596684313179159\n",
      "precision 0.9578389295535076\n",
      "accuracy 0.9596684313179159\n",
      "********************************\n",
      "naive bayes\n",
      "Confusion matrix\n",
      "[[12892     3]\n",
      " [ 1147   314]]\n",
      "f1 score 0.8958244920999688\n",
      "recall 0.9198941209250487\n",
      "precision 0.9256505585088531\n",
      "accuracy 0.9198941209250487\n",
      "********************************\n",
      "logistic regression\n",
      "Confusion matrix\n",
      "[[12817    78]\n",
      " [  573   888]]\n",
      "f1 score 0.9504557196605109\n",
      "recall 0.9546531067149624\n",
      "precision 0.9533445008954489\n",
      "accuracy 0.9546531067149624\n",
      "********************************\n"
     ]
    }
   ],
   "source": [
    "trained_model = []\n",
    "for index, model in enumerate(models):\n",
    "    print(models_name[index])\n",
    "    m1 = model.fit(X_train, y_train)\n",
    "    trained_model.append(m1)\n",
    "    preds = m1.predict(X_val)\n",
    "    conf_mat = confusion_matrix(y_val, preds)\n",
    "    print('Confusion matrix')\n",
    "    print(conf_mat)\n",
    "    print('f1 score',f1_score(y_val, preds, average='weighted', zero_division = 1))\n",
    "    print('recall',recall_score(y_val, preds, average='weighted', zero_division = 1))\n",
    "    print('precision',precision_score(y_val, preds, average='weighted', zero_division =1))\n",
    "    print('accuracy',accuracy_score(y_val, preds))\n",
    "    print('********************************')\n",
    "    '''\n",
    "    fig, ax = plt.subplots(figsize=(5,5))\n",
    "    sns.heatmap(conf_mat, annot=True)\n",
    "    plt.ylabel('Actual')\n",
    "    plt.xlabel('Predicted')\n",
    "    plt.show()\n",
    "    '''"
   ]
  },
  {
   "cell_type": "code",
   "execution_count": null,
   "id": "6086a8c9",
   "metadata": {},
   "outputs": [],
   "source": []
  },
  {
   "cell_type": "code",
   "execution_count": null,
   "id": "989787eb",
   "metadata": {},
   "outputs": [],
   "source": []
  }
 ],
 "metadata": {
  "kernelspec": {
   "display_name": "Python 3 (ipykernel)",
   "language": "python",
   "name": "python3"
  },
  "language_info": {
   "codemirror_mode": {
    "name": "ipython",
    "version": 3
   },
   "file_extension": ".py",
   "mimetype": "text/x-python",
   "name": "python",
   "nbconvert_exporter": "python",
   "pygments_lexer": "ipython3",
   "version": "3.9.16"
  }
 },
 "nbformat": 4,
 "nbformat_minor": 5
}
