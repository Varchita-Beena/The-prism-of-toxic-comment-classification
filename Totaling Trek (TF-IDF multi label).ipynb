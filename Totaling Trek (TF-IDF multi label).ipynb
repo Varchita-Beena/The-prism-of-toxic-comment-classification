{
 "cells": [
  {
   "cell_type": "code",
   "execution_count": 1,
   "id": "1cfcace6",
   "metadata": {},
   "outputs": [],
   "source": [
    "import pandas as pd\n",
    "import numpy as np\n",
    "\n",
    "import matplotlib.pyplot as plt\n",
    "\n",
    "from sklearn.metrics import f1_score, recall_score, precision_score, accuracy_score\n",
    "\n",
    "import seaborn as sns\n",
    "from sklearn.model_selection import train_test_split\n",
    "\n",
    "from sklearn.feature_extraction.text import TfidfVectorizer\n",
    "\n",
    "from sklearn.naive_bayes import MultinomialNB\n",
    "from sklearn.linear_model import LogisticRegression\n",
    "from sklearn.ensemble import RandomForestClassifier\n",
    "from sklearn.svm import LinearSVC\n",
    "from sklearn.multiclass import OneVsRestClassifier\n",
    "\n",
    "from sklearn.feature_extraction.text import TfidfVectorizer\n",
    "\n",
    "from sklearn.preprocessing import LabelBinarizer\n",
    "\n",
    "from sklearn.metrics import confusion_matrix"
   ]
  },
  {
   "cell_type": "code",
   "execution_count": 2,
   "id": "bb384a66",
   "metadata": {},
   "outputs": [],
   "source": [
    "train_file = pd.read_csv('clean.csv')"
   ]
  },
  {
   "cell_type": "code",
   "execution_count": 3,
   "id": "b3b6a462",
   "metadata": {},
   "outputs": [
    {
     "data": {
      "text/plain": [
       "(Index(['comment_text', 'toxic', 'severe_toxic', 'obscene', 'threat', 'insult',\n",
       "        'identity_hate', 'label'],\n",
       "       dtype='object'),\n",
       " (159513, 8))"
      ]
     },
     "execution_count": 3,
     "metadata": {},
     "output_type": "execute_result"
    }
   ],
   "source": [
    "train_file.columns, train_file.shape"
   ]
  },
  {
   "cell_type": "code",
   "execution_count": 4,
   "id": "0b56d6bc",
   "metadata": {},
   "outputs": [],
   "source": [
    "max_label_length = 6\n",
    "new_label = []\n",
    "for each in train_file['label']:\n",
    "    temp = str(each)\n",
    "    if len(temp) != max_label_length:\n",
    "        zeros = max_label_length - len(str(each))\n",
    "        res = temp.rjust(zeros + len(temp), '0')\n",
    "        new_label.append(res)\n",
    "    else:\n",
    "        new_label.append(temp)    "
   ]
  },
  {
   "cell_type": "code",
   "execution_count": 5,
   "id": "eea1ebfa",
   "metadata": {},
   "outputs": [],
   "source": [
    "train_file['label'] = new_label"
   ]
  },
  {
   "cell_type": "code",
   "execution_count": 6,
   "id": "71521365",
   "metadata": {},
   "outputs": [],
   "source": [
    "train_file = train_file.drop(['toxic', 'severe_toxic', 'obscene', 'threat', 'insult', 'identity_hate'], axis = 1)"
   ]
  },
  {
   "cell_type": "code",
   "execution_count": 7,
   "id": "9fda8303",
   "metadata": {},
   "outputs": [
    {
     "data": {
      "text/plain": [
       "000000    143288\n",
       "100000      5666\n",
       "101010      3800\n",
       "101000      1758\n",
       "100010      1215\n",
       "111010       989\n",
       "101011       618\n",
       "001000       317\n",
       "000010       301\n",
       "111011       265\n",
       "001010       181\n",
       "111000       158\n",
       "100001       136\n",
       "100011       134\n",
       "101110       131\n",
       "100100       113\n",
       "111110        64\n",
       "101111        56\n",
       "000001        54\n",
       "110000        41\n",
       "101001        35\n",
       "111111        31\n",
       "000011        28\n",
       "000100        22\n",
       "001011        18\n",
       "100110        16\n",
       "110010        14\n",
       "101100        11\n",
       "110100        11\n",
       "100101         7\n",
       "110011         7\n",
       "111001         6\n",
       "111100         4\n",
       "000110         3\n",
       "100111         3\n",
       "110001         3\n",
       "001001         3\n",
       "001100         2\n",
       "001110         2\n",
       "110110         1\n",
       "110101         1\n",
       "Name: label, dtype: int64"
      ]
     },
     "execution_count": 7,
     "metadata": {},
     "output_type": "execute_result"
    }
   ],
   "source": [
    "value_counts_label = train_file['label'].value_counts()\n",
    "value_counts_label"
   ]
  },
  {
   "cell_type": "code",
   "execution_count": 8,
   "id": "0f189fde",
   "metadata": {},
   "outputs": [
    {
     "data": {
      "text/plain": [
       "(159512, 2)"
      ]
     },
     "execution_count": 8,
     "metadata": {},
     "output_type": "execute_result"
    }
   ],
   "source": [
    "labels_one_dp = ['110110', '110101']\n",
    "inds = train_file[ (train_file['label'] == '110110') ].index\n",
    "train_file.drop(inds , inplace=True)\n",
    "train_file.shape"
   ]
  },
  {
   "cell_type": "code",
   "execution_count": 9,
   "id": "aa2465b5",
   "metadata": {},
   "outputs": [
    {
     "data": {
      "text/plain": [
       "(159511, 2)"
      ]
     },
     "execution_count": 9,
     "metadata": {},
     "output_type": "execute_result"
    }
   ],
   "source": [
    "inds = train_file[ (train_file['label'] == '110101') ].index\n",
    "train_file.drop(inds , inplace=True)\n",
    "train_file.shape"
   ]
  },
  {
   "cell_type": "code",
   "execution_count": 10,
   "id": "cc9d929a",
   "metadata": {},
   "outputs": [],
   "source": [
    "train, val = train_test_split(train_file, test_size=0.1, random_state=42, stratify = train_file['label'], shuffle = True)\n"
   ]
  },
  {
   "cell_type": "code",
   "execution_count": 11,
   "id": "0db326ea",
   "metadata": {},
   "outputs": [],
   "source": [
    "\n",
    "\n",
    "x_train = train['comment_text'].reset_index(drop = True)\n",
    "y_train = train['label'].reset_index(drop = True)\n",
    "\n",
    "x_val = val['comment_text'].reset_index(drop = True)\n",
    "y_val = val['label'].reset_index(drop = True)\n",
    "\n",
    "\n",
    "del train\n",
    "del val\n"
   ]
  },
  {
   "cell_type": "markdown",
   "id": "c47be56e",
   "metadata": {},
   "source": [
    "#### Corpus will be x_train\n",
    "#### the output shape will be (number of data points, features)\n",
    "#### features - representing the tf-idf score for different unigrams and bigrams."
   ]
  },
  {
   "cell_type": "code",
   "execution_count": 12,
   "id": "1103bbf3",
   "metadata": {},
   "outputs": [
    {
     "data": {
      "text/plain": [
       "((143559, 158878), (15952, 158878))"
      ]
     },
     "execution_count": 12,
     "metadata": {},
     "output_type": "execute_result"
    }
   ],
   "source": [
    "tf_idf = TfidfVectorizer()\n",
    "tf_idf.fit(x_train)\n",
    "X_train = tf_idf.transform(x_train)\n",
    "X_val = tf_idf.transform(x_val)\n",
    "X_train.shape, X_val.shape"
   ]
  },
  {
   "cell_type": "code",
   "execution_count": 13,
   "id": "92b42765",
   "metadata": {},
   "outputs": [],
   "source": [
    "lb = LabelBinarizer()\n",
    "lb.fit(y_train)\n",
    "Y_train = lb.transform(y_train)\n",
    "Y_val = lb.transform(y_val)"
   ]
  },
  {
   "cell_type": "code",
   "execution_count": 14,
   "id": "c426144e",
   "metadata": {},
   "outputs": [],
   "source": [
    "models = [\n",
    "    RandomForestClassifier(n_estimators=60, max_depth=3, random_state=0),\n",
    "    OneVsRestClassifier(LinearSVC(random_state=0))\n",
    "]\n",
    "models_name = ['random forest', 'SVM - one vs rest']"
   ]
  },
  {
   "cell_type": "code",
   "execution_count": 15,
   "id": "a75d1b5c",
   "metadata": {},
   "outputs": [
    {
     "name": "stdout",
     "output_type": "stream",
     "text": [
      "random forest\n",
      "f1 score 0.8502030926012301\n",
      "recall 0.8983199598796389\n",
      "precision 0.908658790438517\n",
      "accuracy 0.8983199598796389\n",
      "********************************\n",
      "SVM - one vs rest\n",
      "f1 score 0.8690322637398731\n",
      "recall 0.9044633901705116\n",
      "precision 0.8652460371854777\n",
      "accuracy 0.9044633901705116\n",
      "********************************\n"
     ]
    }
   ],
   "source": [
    "trained_model = []\n",
    "for index, model in enumerate(models):\n",
    "    print(models_name[index])\n",
    "    m1 = model.fit(X_train, Y_train)\n",
    "    trained_model.append(m1)\n",
    "    preds = m1.predict(X_val)\n",
    "    preds = lb.inverse_transform(preds)\n",
    "    conf_mat = confusion_matrix(y_val, preds)\n",
    "    \n",
    "    print('f1 score',f1_score(y_val, preds, average='weighted', zero_division = 1))\n",
    "    print('recall',recall_score(y_val, preds, average='weighted', zero_division = 1))\n",
    "    print('precision',precision_score(y_val, preds, average='weighted', zero_division =1))\n",
    "    print('accuracy',accuracy_score(y_val, preds))\n",
    "    print('********************************')\n",
    "    '''\n",
    "    fig, ax = plt.subplots(figsize=(15,15))\n",
    "    sns.heatmap(conf_mat, annot=True)\n",
    "    plt.ylabel('Actual')\n",
    "    plt.xlabel('Predicted')\n",
    "    plt.show()\n",
    "    '''"
   ]
  },
  {
   "cell_type": "code",
   "execution_count": null,
   "id": "ce18b446",
   "metadata": {},
   "outputs": [],
   "source": []
  }
 ],
 "metadata": {
  "kernelspec": {
   "display_name": "Python 3 (ipykernel)",
   "language": "python",
   "name": "python3"
  },
  "language_info": {
   "codemirror_mode": {
    "name": "ipython",
    "version": 3
   },
   "file_extension": ".py",
   "mimetype": "text/x-python",
   "name": "python",
   "nbconvert_exporter": "python",
   "pygments_lexer": "ipython3",
   "version": "3.9.16"
  }
 },
 "nbformat": 4,
 "nbformat_minor": 5
}
